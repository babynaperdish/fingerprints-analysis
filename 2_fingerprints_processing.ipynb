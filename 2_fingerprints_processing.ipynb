{
 "cells": [
  {
   "metadata": {
    "ExecuteTime": {
     "end_time": "2025-03-16T13:21:59.884547Z",
     "start_time": "2025-03-16T13:21:59.742938Z"
    }
   },
   "cell_type": "code",
   "outputs": [],
   "execution_count": 17,
   "source": [
    "import os\n",
    "import re\n",
    "import cv2\n",
    "import pandas as pd\n",
    "import numpy as np"
   ],
   "id": "65d7192f08d2be46"
  },
  {
   "metadata": {
    "ExecuteTime": {
     "end_time": "2025-03-16T13:22:00.129761Z",
     "start_time": "2025-03-16T13:21:59.908011Z"
    }
   },
   "cell_type": "code",
   "source": [
    "current_directory = \"./assets/pack_1/\"\n",
    "contents = os.listdir(current_directory)\n",
    "\n",
    "df = pd.DataFrame([], columns=[\"image\", \"fractal_dimension\"])"
   ],
   "id": "2668e0579c1602d3",
   "outputs": [],
   "execution_count": 18
  },
  {
   "metadata": {
    "ExecuteTime": {
     "end_time": "2025-03-16T13:22:00.253369Z",
     "start_time": "2025-03-16T13:22:00.229957Z"
    }
   },
   "cell_type": "code",
   "source": [
    "def sorting_function(el: str) -> tuple[int, int]:\n",
    "    el = re.split(\"[._]\", el)\n",
    "    return int(el[1]), int(el[2])\n",
    "\n",
    "\n",
    "def box_count(Z: np.ndarray, k: int):\n",
    "    S = np.add.reduceat(\n",
    "        np.add.reduceat(Z, np.arange(0, Z.shape[0], k), axis=0),\n",
    "        np.arange(0, Z.shape[1], k),\n",
    "        axis=1\n",
    "    )\n",
    "    return len(np.where((S > 0) & (S < k * k))[0])\n",
    "\n",
    "\n",
    "def fractal_dimension(Z: np.ndarray, threshold: float = 0.9):\n",
    "    Z = (Z < threshold)\n",
    "    p = min(Z.shape)\n",
    "    n = 2 ** np.floor(np.log(p) / np.log(2))\n",
    "    n = int(np.log(n) / np.log(2))\n",
    "    sizes = 2 ** np.arange(n, 1, -1)\n",
    "    counts = []\n",
    "    for size in sizes:\n",
    "        counts.append(box_count(Z, size))\n",
    "    coefficients = np.polyfit(np.log(sizes), np.log(counts), 1)\n",
    "    return -coefficients[0]"
   ],
   "id": "ec30a5e2e41e830b",
   "outputs": [],
   "execution_count": 19
  },
  {
   "metadata": {
    "ExecuteTime": {
     "end_time": "2025-03-16T13:22:02.011445Z",
     "start_time": "2025-03-16T13:22:00.271354Z"
    }
   },
   "cell_type": "code",
   "source": [
    "for img in sorted(contents, key=sorting_function):\n",
    "    # image = plt.imread(current_directory + img, 0)\n",
    "    image = cv2.imread(current_directory + img, cv2.IMREAD_GRAYSCALE)\n",
    "\n",
    "    image = cv2.GaussianBlur(image, (1, 1), 0)\n",
    "    image = cv2.adaptiveThreshold(image, 255, cv2.ADAPTIVE_THRESH_MEAN_C, cv2.THRESH_BINARY, 17, 1) / 255\n",
    "\n",
    "    image[0, 1] = 1\n",
    "    image[0, 6:12] = 1\n",
    "    fractal_d = fractal_dimension(image, threshold=0.25)\n",
    "    df.loc[len(df.index)] = [img, fractal_d]"
   ],
   "id": "1cb8497865ad9cfb",
   "outputs": [],
   "execution_count": 20
  },
  {
   "metadata": {
    "ExecuteTime": {
     "end_time": "2025-03-16T13:22:02.104315Z",
     "start_time": "2025-03-16T13:22:02.046035Z"
    }
   },
   "cell_type": "code",
   "source": [
    "df.head()\n",
    "df.tail()"
   ],
   "id": "361df649002c719e",
   "outputs": [
    {
     "data": {
      "text/plain": [
       "               image  fractal_dimension\n",
       "250  finger_51_1.png           1.828950\n",
       "251  finger_51_2.png           1.828961\n",
       "252  finger_51_3.png           1.828558\n",
       "253  finger_51_4.png           1.828350\n",
       "254  finger_51_5.png           1.827764"
      ],
      "text/html": [
       "<div>\n",
       "<style scoped>\n",
       "    .dataframe tbody tr th:only-of-type {\n",
       "        vertical-align: middle;\n",
       "    }\n",
       "\n",
       "    .dataframe tbody tr th {\n",
       "        vertical-align: top;\n",
       "    }\n",
       "\n",
       "    .dataframe thead th {\n",
       "        text-align: right;\n",
       "    }\n",
       "</style>\n",
       "<table border=\"1\" class=\"dataframe\">\n",
       "  <thead>\n",
       "    <tr style=\"text-align: right;\">\n",
       "      <th></th>\n",
       "      <th>image</th>\n",
       "      <th>fractal_dimension</th>\n",
       "    </tr>\n",
       "  </thead>\n",
       "  <tbody>\n",
       "    <tr>\n",
       "      <th>250</th>\n",
       "      <td>finger_51_1.png</td>\n",
       "      <td>1.828950</td>\n",
       "    </tr>\n",
       "    <tr>\n",
       "      <th>251</th>\n",
       "      <td>finger_51_2.png</td>\n",
       "      <td>1.828961</td>\n",
       "    </tr>\n",
       "    <tr>\n",
       "      <th>252</th>\n",
       "      <td>finger_51_3.png</td>\n",
       "      <td>1.828558</td>\n",
       "    </tr>\n",
       "    <tr>\n",
       "      <th>253</th>\n",
       "      <td>finger_51_4.png</td>\n",
       "      <td>1.828350</td>\n",
       "    </tr>\n",
       "    <tr>\n",
       "      <th>254</th>\n",
       "      <td>finger_51_5.png</td>\n",
       "      <td>1.827764</td>\n",
       "    </tr>\n",
       "  </tbody>\n",
       "</table>\n",
       "</div>"
      ]
     },
     "execution_count": 21,
     "metadata": {},
     "output_type": "execute_result"
    }
   ],
   "execution_count": 21
  },
  {
   "metadata": {
    "ExecuteTime": {
     "end_time": "2025-03-16T13:22:02.212174Z",
     "start_time": "2025-03-16T13:22:02.158080Z"
    }
   },
   "cell_type": "code",
   "source": "df.to_csv(\"assets/fractal.csv\", index=False)",
   "id": "e12fb038a5f43be5",
   "outputs": [],
   "execution_count": 22
  }
 ],
 "metadata": {
  "kernelspec": {
   "name": "python3",
   "language": "python",
   "display_name": "Python 3 (ipykernel)"
  }
 },
 "nbformat": 5,
 "nbformat_minor": 9
}
